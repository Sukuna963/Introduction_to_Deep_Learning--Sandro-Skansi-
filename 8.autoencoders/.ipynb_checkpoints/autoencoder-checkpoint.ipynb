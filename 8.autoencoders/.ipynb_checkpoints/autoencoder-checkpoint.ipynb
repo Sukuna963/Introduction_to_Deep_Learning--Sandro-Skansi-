{
 "cells": [
  {
   "cell_type": "code",
   "execution_count": 1,
   "id": "1a74f23d-e90d-4b09-a178-2588cbb22384",
   "metadata": {},
   "outputs": [],
   "source": [
    "from keras.layers import Input\n",
    "from keras.layers import Dense\n",
    "from keras.models import Model\n",
    "from keras.datasets import mnist\n",
    "import numpy as np"
   ]
  },
  {
   "cell_type": "code",
   "execution_count": 2,
   "id": "c414d40c-8336-47b8-9b42-04045f156580",
   "metadata": {},
   "outputs": [],
   "source": [
    "(x_train, _), (x_test,_) = mnist.load_data()"
   ]
  },
  {
   "cell_type": "code",
   "execution_count": 3,
   "id": "44e42004-0a7f-4dcd-ae4a-da9fecfdd3fc",
   "metadata": {},
   "outputs": [],
   "source": [
    "x_train = x_train.astype('float32')/255.0\n",
    "x_test = x_test.astype('float32')/255.0\n",
    "noise_rate = 0.05"
   ]
  },
  {
   "cell_type": "code",
   "execution_count": 4,
   "id": "5f8f45de-646d-4feb-b91a-525c9461c476",
   "metadata": {},
   "outputs": [],
   "source": [
    "x_train_noisy = x_train + noise_rate * np.random.normal(loc=0.0, scale=1.0, size=x_train.shape)\n",
    "x_test_noisy = x_test + noise_rate * np.random.normal(loc=0.0, scale=1.0, size=x_test.shape)\n",
    "x_train_noisy = np.clip(x_train_noisy, 0.0, 1.0)\n",
    "x_test_noisy = np.clip(x_test_noisy, 0.0, 1.0)"
   ]
  },
  {
   "cell_type": "code",
   "execution_count": 5,
   "id": "a38a41dd-a2c8-4e39-bf4e-96958e5541a1",
   "metadata": {},
   "outputs": [],
   "source": [
    "x_train = x_train.reshape((len(x_train), np.prod(x_train.shape[1:])))\n",
    "x_test = x_test.reshape((len(x_test), np.prod(x_test.shape[1:])))\n",
    "x_train_noisy = x_train_noisy.reshape((len(x_train_noisy), np.prod(x_train_noisy.shape[1:])))\n",
    "x_test_noisy = x_test_noisy.reshape((len(x_test_noisy), np.prod(x_test_noisy.shape[1:])))\n",
    "assert x_train_noisy.shape[1] == x_test_noisy.shape[1]"
   ]
  },
  {
   "cell_type": "code",
   "execution_count": 6,
   "id": "b5fc5959-431b-4367-99fb-555ee4e70ced",
   "metadata": {},
   "outputs": [
    {
     "name": "stderr",
     "output_type": "stream",
     "text": [
      "W0000 00:00:1734378574.336788    4969 gpu_device.cc:2344] Cannot dlopen some GPU libraries. Please make sure the missing libraries mentioned above are installed properly if you would like to use GPU. Follow the guide at https://www.tensorflow.org/install/gpu for how to download and setup the required libraries for your platform.\n",
      "Skipping registering GPU devices...\n"
     ]
    }
   ],
   "source": [
    "inputs = Input(shape=(x_train_noisy.shape[1],))\n",
    "encode1 = Dense(128, activation='relu')(inputs)\n",
    "encode2 = Dense(64, activation='tanh')(encode1)\n",
    "encode3 = Dense(32, activation='relu')(encode2)\n",
    "decode3 = Dense(64, activation='relu')(encode3)\n",
    "decode2 = Dense(128, activation='sigmoid')(decode3)\n",
    "decode1 = Dense(x_train_noisy.shape[1], activation='relu')(decode2)"
   ]
  },
  {
   "cell_type": "code",
   "execution_count": 7,
   "id": "d0ef28fc-f341-4bc2-bee1-c32d8fd92f5d",
   "metadata": {},
   "outputs": [
    {
     "name": "stdout",
     "output_type": "stream",
     "text": [
      "Epoch 1/5\n",
      "\u001b[1m235/235\u001b[0m \u001b[32m━━━━━━━━━━━━━━━━━━━━\u001b[0m\u001b[37m\u001b[0m \u001b[1m2s\u001b[0m 5ms/step - accuracy: 1.8484e-05 - loss: 0.1188\n",
      "Epoch 2/5\n",
      "\u001b[1m235/235\u001b[0m \u001b[32m━━━━━━━━━━━━━━━━━━━━\u001b[0m\u001b[37m\u001b[0m \u001b[1m1s\u001b[0m 5ms/step - accuracy: 1.4330e-04 - loss: 0.1093\n",
      "Epoch 3/5\n",
      "\u001b[1m235/235\u001b[0m \u001b[32m━━━━━━━━━━━━━━━━━━━━\u001b[0m\u001b[37m\u001b[0m \u001b[1m1s\u001b[0m 5ms/step - accuracy: 0.0023 - loss: 0.1028\n",
      "Epoch 4/5\n",
      "\u001b[1m235/235\u001b[0m \u001b[32m━━━━━━━━━━━━━━━━━━━━\u001b[0m\u001b[37m\u001b[0m \u001b[1m1s\u001b[0m 5ms/step - accuracy: 0.0032 - loss: 0.0986\n",
      "Epoch 5/5\n",
      "\u001b[1m235/235\u001b[0m \u001b[32m━━━━━━━━━━━━━━━━━━━━\u001b[0m\u001b[37m\u001b[0m \u001b[1m1s\u001b[0m 5ms/step - accuracy: 0.0026 - loss: 0.0957\n"
     ]
    },
    {
     "data": {
      "text/plain": [
       "<keras.src.callbacks.history.History at 0x7fe90ecfea20>"
      ]
     },
     "execution_count": 7,
     "metadata": {},
     "output_type": "execute_result"
    }
   ],
   "source": [
    "autoencoder = Model(inputs, decode1)\n",
    "autoencoder.compile(optimizer='sgd', loss='mean_squared_error', metrics=['accuracy'])\n",
    "autoencoder.fit(x_train, x_train, epochs=5, batch_size=256, shuffle=True)"
   ]
  },
  {
   "cell_type": "code",
   "execution_count": 9,
   "id": "182dea34-110a-44f0-a2bf-e8a46abfd26c",
   "metadata": {},
   "outputs": [
    {
     "name": "stdout",
     "output_type": "stream",
     "text": [
      "\u001b[1m313/313\u001b[0m \u001b[32m━━━━━━━━━━━━━━━━━━━━\u001b[0m\u001b[37m\u001b[0m \u001b[1m0s\u001b[0m 1ms/step - accuracy: 0.0041 - loss: 0.0904\n",
      "\n",
      "compile_metrics:0.30%\n",
      "\n",
      "\u001b[1m313/313\u001b[0m \u001b[32m━━━━━━━━━━━━━━━━━━━━\u001b[0m\u001b[37m\u001b[0m \u001b[1m0s\u001b[0m 1ms/step\n",
      "[(784, 128), (128,), (128, 64), (64,), (64, 32), (32,), (32, 64), (64,), (64, 128), (128,), (128, 784), (784,)]\n",
      "(32, 64)\n"
     ]
    }
   ],
   "source": [
    "metrics = autoencoder.evaluate(x_test_noisy, x_test, verbose=1)\n",
    "print()\n",
    "print(\"%s:%.2f%%\" % (autoencoder.metrics_names[1], metrics[1]*100))\n",
    "print()\n",
    "results = autoencoder.predict(x_test)\n",
    "all_AE_weights_shapes = [x.shape for x in autoencoder.get_weights()]\n",
    "print(all_AE_weights_shapes)\n",
    "ww = len(all_AE_weights_shapes)\n",
    "deeply_encoded_MNIST_weight_matrix = autoencoder.get_weights()[int((ww/2))]\n",
    "print(deeply_encoded_MNIST_weight_matrix.shape)\n",
    "autoencoder.save_weights(\"all_AE.weights.h5\")"
   ]
  }
 ],
 "metadata": {
  "kernelspec": {
   "display_name": "Python 3 (ipykernel)",
   "language": "python",
   "name": "python3"
  },
  "language_info": {
   "codemirror_mode": {
    "name": "ipython",
    "version": 3
   },
   "file_extension": ".py",
   "mimetype": "text/x-python",
   "name": "python",
   "nbconvert_exporter": "python",
   "pygments_lexer": "ipython3",
   "version": "3.12.7"
  }
 },
 "nbformat": 4,
 "nbformat_minor": 5
}
